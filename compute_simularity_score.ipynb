{
 "cells": [
  {
   "cell_type": "markdown",
   "metadata": {},
   "source": [
    "# Tutorial: Use trained model to perform recommendation.\n",
    "\n",
    "Sample JSON Requests:\n",
    "```json\n",
    "json_request = {\n",
    "'专业': ['Angular', 'React'],\n",
    "'专业证书': [],\n",
    "'学历': [],\n",
    "'所在领域': ['前端开发'],\n",
    "'技术栈': ['Angular', 'React'],\n",
    "'数量': 1,\n",
    "'职位': '前端开发工程师',\n",
    "'职位工作年限': [],\n",
    "'职称名称': [],\n",
    "'语言要求': [],\n",
    "'项目经验': []\n",
    "}\n",
    "```"
   ]
  },
  {
   "cell_type": "code",
   "execution_count": 1,
   "metadata": {},
   "outputs": [],
   "source": [
    "json_request = {\n",
    "    '专业': ['Angular', 'React'],\n",
    "    '专业证书': [],\n",
    "    '学历': [],\n",
    "    '所在领域': ['前端开发'],\n",
    "    '技术栈': ['Angular', 'React'],\n",
    "    '数量': 1,\n",
    "    '职位': '前端开发工程师',\n",
    "    '职位工作年限': [],\n",
    "    '职称名称': [],\n",
    "    '语言要求': [],\n",
    "    '项目经验': []\n",
    "}"
   ]
  },
  {
   "cell_type": "markdown",
   "metadata": {},
   "source": [
    "We use predefined configurations which is stored at `./configs.yaml`\n",
    "```python\n",
    "# use the following codes to get a view of our configuration.\n",
    "configs = \"./talent_recommendation/configs.yaml\"\n",
    "configs = load_configs(configs, check_keys=[\"neo4j\"])\n",
    "model, data = rec_sys_train(configs)\n",
    "```"
   ]
  },
  {
   "cell_type": "markdown",
   "metadata": {},
   "source": [
    "## One Step Function Calling: If you already has your model and data\n",
    "\n",
    "`similarity_compute()` is a one-stop function which could reload pre-trained recommendation system GNN model and HeteroData object according to our configuration file."
   ]
  },
  {
   "cell_type": "code",
   "execution_count": 2,
   "metadata": {},
   "outputs": [
    {
     "name": "stderr",
     "output_type": "stream",
     "text": [
      "No sentence-transformers model found with name /root/KnowledgeAlgorithms/models/sbert-base-chinese-nli. Creating a new one with MEAN pooling.\n"
     ]
    },
    {
     "name": "stdout",
     "output_type": "stream",
     "text": [
      "Found HeteroData at /root/KnowledgeAlgorithms/checkpoints/dataset.pt\n",
      "2 new edges added.\n",
      "Employee ID: 2962, Name: MT11551, Score: 4.133079528808594\n",
      "Employee ID: 7018, Name: MT51801, Score: 3.986539602279663\n",
      "Employee ID: 2833, Name: MT44283, Score: 3.5716400146484375\n",
      "Employee ID: 9065, Name: MT34635, Score: 3.5663764476776123\n",
      "Employee ID: 4523, Name: MT43368, Score: 3.525930166244507\n"
     ]
    },
    {
     "name": "stderr",
     "output_type": "stream",
     "text": [
      "/root/KnowledgeAlgorithms/talent_recommendation/BipartiteRecSys.py:764: UserWarning: The use of `x.T` on tensors of dimension other than 2 to reverse their shape is deprecated and it will throw an error in a future release. Consider `x.mT` to transpose batches of matrices or `x.permute(*torch.arange(x.ndim - 1, -1, -1))` to reverse the dimensions of a tensor. (Triggered internally at ../aten/src/ATen/native/TensorShape.cpp:3614.)\n",
      "  scores = torch.matmul(employee_embeddings, position_embedding.T)\n"
     ]
    },
    {
     "data": {
      "text/html": [
       "<div>\n",
       "<style scoped>\n",
       "    .dataframe tbody tr th:only-of-type {\n",
       "        vertical-align: middle;\n",
       "    }\n",
       "\n",
       "    .dataframe tbody tr th {\n",
       "        vertical-align: top;\n",
       "    }\n",
       "\n",
       "    .dataframe thead th {\n",
       "        text-align: right;\n",
       "    }\n",
       "</style>\n",
       "<table border=\"1\" class=\"dataframe\">\n",
       "  <thead>\n",
       "    <tr style=\"text-align: right;\">\n",
       "      <th></th>\n",
       "      <th>工号</th>\n",
       "      <th>学历</th>\n",
       "      <th>首次工作时间</th>\n",
       "      <th>年龄</th>\n",
       "    </tr>\n",
       "  </thead>\n",
       "  <tbody>\n",
       "    <tr>\n",
       "      <th>0</th>\n",
       "      <td>MT11551</td>\n",
       "      <td>本科</td>\n",
       "      <td>None</td>\n",
       "      <td>None</td>\n",
       "    </tr>\n",
       "    <tr>\n",
       "      <th>1</th>\n",
       "      <td>MT51801</td>\n",
       "      <td>本科</td>\n",
       "      <td>None</td>\n",
       "      <td>None</td>\n",
       "    </tr>\n",
       "    <tr>\n",
       "      <th>2</th>\n",
       "      <td>MT44283</td>\n",
       "      <td>大专</td>\n",
       "      <td>None</td>\n",
       "      <td>None</td>\n",
       "    </tr>\n",
       "    <tr>\n",
       "      <th>3</th>\n",
       "      <td>MT34635</td>\n",
       "      <td>大专</td>\n",
       "      <td>None</td>\n",
       "      <td>None</td>\n",
       "    </tr>\n",
       "    <tr>\n",
       "      <th>4</th>\n",
       "      <td>MT43368</td>\n",
       "      <td>本科</td>\n",
       "      <td>None</td>\n",
       "      <td>None</td>\n",
       "    </tr>\n",
       "  </tbody>\n",
       "</table>\n",
       "</div>"
      ],
      "text/plain": [
       "        工号  学历 首次工作时间    年龄\n",
       "0  MT11551  本科   None  None\n",
       "1  MT51801  本科   None  None\n",
       "2  MT44283  大专   None  None\n",
       "3  MT34635  大专   None  None\n",
       "4  MT43368  本科   None  None"
      ]
     },
     "execution_count": 2,
     "metadata": {},
     "output_type": "execute_result"
    }
   ],
   "source": [
    "from talent_recommendation.BipartiteRecSys import similarity_compute\n",
    "\n",
    "df, out = similarity_compute(json_request, configs=\"./configs.yaml\")\n",
    "df"
   ]
  },
  {
   "cell_type": "markdown",
   "metadata": {},
   "source": [
    "## Train from beginning.\n",
    "\n",
    "If you don't have your model and data at hand, but at least have your neo4j usr name and password. You could train from begginning. There are functions calls that could do the whole training process step by step. Please refer to the documentation. For convenience, we still use `similarity_compute()` functions to do the whole process."
   ]
  },
  {
   "cell_type": "code",
   "execution_count": 3,
   "metadata": {},
   "outputs": [],
   "source": [
    "configs = {'dataTransform': {'edge_types': [['employee', 'workedAs', 'position']],\n",
    "  'is_undirected': True,\n",
    "  'neg_sampling_ratio': 0.0,\n",
    "  'num_test': 0.0,\n",
    "  'num_val': 0.1,\n",
    "  'random_data_split': True,\n",
    "  'rev_edge_types': [['position', 'rev_workedAs', 'employee']]},\n",
    " 'graphNeuralNetwork': {'hidden_channels': 128,\n",
    "  'input_channels': 768,\n",
    "  'out_channels': 64},\n",
    " 'neo4j': {'labels': ['employee', 'project', 'position', 'techStack'],\n",
    "  'password': 'tanzhezhineng',\n",
    "  'url': 'bolt://localhost:7687',\n",
    "  'user': 'neo4j'},\n",
    " 'save': None,\n",
    " 'sentence_encoder': '/root/KnowledgeAlgorithms/models/sbert-base-chinese-nli',\n",
    " 'targetEdgeType': '(\"position\", \"rev_workedAs\", \"employee\")',\n",
    " 'train': {'k_to_hit': 10, 'num_epochs': 50, 'optimizer': 'Adam'}}"
   ]
  },
  {
   "cell_type": "code",
   "execution_count": 4,
   "metadata": {},
   "outputs": [
    {
     "name": "stdout",
     "output_type": "stream",
     "text": [
      "No dataset found. Fetch data from neo4j database.\n",
      "Loading node:employee ...\t 10000 nodes loaded.\n",
      "Loading node:project ...\t  4371 nodes loaded.\n",
      "Loading node:position ...\t    41 nodes loaded.\n",
      "Loading node:techStack ...\t    66 nodes loaded.\n",
      "Loading relation (employee)-->(project) ...\t 39986 loaded.\n",
      "Loading relation (employee)-->(position) ...\t 38513 loaded.\n",
      "Loading relation (employee)-->(techStack) ...\t  2966 loaded.\n",
      "Loading relation (project)-->(employee) ...\t     0 loaded.\n",
      "Loading relation (project)-->(position) ...\t 35641 loaded.\n",
      "Loading relation (project)-->(techStack) ...\t 37316 loaded.\n",
      "Loading relation (position)-->(employee) ...\t     0 loaded.\n",
      "Loading relation (position)-->(project) ...\t     0 loaded.\n",
      "Loading relation (position)-->(techStack) ...\t  2665 loaded.\n",
      "Loading relation (techStack)-->(employee) ...\t     0 loaded.\n",
      "Loading relation (techStack)-->(project) ...\t     0 loaded.\n",
      "Loading relation (techStack)-->(position) ...\t     0 loaded.\n",
      "No model could be found. Now we are going to train a model.\n",
      "Connected to Neo4j Database.\n",
      "Start training on cuda ...\n"
     ]
    },
    {
     "name": "stderr",
     "output_type": "stream",
     "text": [
      "/root/miniconda3/envs/recsys/lib/python3.10/site-packages/sklearn/metrics/_classification.py:1471: UndefinedMetricWarning: Precision is ill-defined and being set to 0.0 due to no predicted samples. Use `zero_division` parameter to control this behavior.\n",
      "  _warn_prf(average, modifier, msg_start, len(result))\n"
     ]
    },
    {
     "name": "stdout",
     "output_type": "stream",
     "text": [
      "Epoch [10/50], Loss: 1.248204, Val Loss: 1.6661 Val AUC: 0.5095, Val Precision: 0.0000, Val Recall: 0.0000, Val F1: 0.0000, Val Hit@10: 0.0000\n",
      "Epoch [20/50], Loss: 3.043222, Val Loss: 1.9877 Val AUC: 0.5570, Val Precision: 0.5018, Val Recall: 0.2961, Val F1: 0.3724, Val Hit@10: 0.8000\n",
      "Epoch [30/50], Loss: 0.419615, Val Loss: 0.4837 Val AUC: 0.6384, Val Precision: 0.8059, Val Recall: 0.0228, Val F1: 0.0443, Val Hit@10: 0.9000\n",
      "Epoch [40/50], Loss: 0.336543, Val Loss: 0.3640 Val AUC: 0.6999, Val Precision: 0.6490, Val Recall: 0.6214, Val F1: 0.6349, Val Hit@10: 0.9000\n"
     ]
    },
    {
     "name": "stderr",
     "output_type": "stream",
     "text": [
      "No sentence-transformers model found with name /root/KnowledgeAlgorithms/models/sbert-base-chinese-nli. Creating a new one with MEAN pooling.\n"
     ]
    },
    {
     "name": "stdout",
     "output_type": "stream",
     "text": [
      "Epoch [50/50], Loss: 0.295100, Val Loss: 0.2966 Val AUC: 0.7458, Val Precision: 0.8526, Val Recall: 0.0986, Val F1: 0.1768, Val Hit@10: 1.0000\n",
      "2 new edges added.\n",
      "Employee ID: 23, Name: MT47122, Score: 2.9764935970306396\n",
      "Employee ID: 154, Name: MT53926, Score: 2.6382429599761963\n",
      "Employee ID: 58, Name: MT37925, Score: 2.5436573028564453\n",
      "Employee ID: 310, Name: MT18723, Score: 2.5149214267730713\n",
      "Employee ID: 283, Name: MT86493, Score: 2.4734463691711426\n"
     ]
    },
    {
     "data": {
      "text/plain": [
       "(        工号  学历 首次工作时间    年龄          技术栈\n",
       " 0  MT47122  大专   None  None      [Jetty]\n",
       " 1  MT53926  本科   None  None        [ant]\n",
       " 2  MT37925  大专   None  None  [FreeMaker]\n",
       " 3  MT18723  本科   None  None       [jdbc]\n",
       " 4  MT86493  硕士   None  None  [SecureCRT],\n",
       " [('MT47122', 2.9764935970306396),\n",
       "  ('MT53926', 2.6382429599761963),\n",
       "  ('MT37925', 2.5436573028564453),\n",
       "  ('MT18723', 2.5149214267730713),\n",
       "  ('MT86493', 2.4734463691711426)])"
      ]
     },
     "execution_count": 4,
     "metadata": {},
     "output_type": "execute_result"
    }
   ],
   "source": [
    "similarity_compute(json_request, configs)"
   ]
  }
 ],
 "metadata": {
  "kernelspec": {
   "display_name": "recsys",
   "language": "python",
   "name": "python3"
  },
  "language_info": {
   "codemirror_mode": {
    "name": "ipython",
    "version": 3
   },
   "file_extension": ".py",
   "mimetype": "text/x-python",
   "name": "python",
   "nbconvert_exporter": "python",
   "pygments_lexer": "ipython3",
   "version": "3.10.13"
  }
 },
 "nbformat": 4,
 "nbformat_minor": 2
}
